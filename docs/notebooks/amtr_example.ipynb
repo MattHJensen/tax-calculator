{
 "cells": [
  {
   "cell_type": "code",
   "execution_count": 92,
   "metadata": {
    "collapsed": true
   },
   "outputs": [],
   "source": [
    "import sys\n",
    "sys.path.append(\"../../\")\n",
    "from taxcalc import *\n",
    "import pandas as pd\n",
    "import numpy as np"
   ]
  },
  {
   "cell_type": "code",
   "execution_count": 152,
   "metadata": {
    "collapsed": true
   },
   "outputs": [],
   "source": [
    "records_x = Records(\"../../puf.csv\")\n",
    "params_x = Policy()\n",
    "records_mid = Records(\"../../puf.csv\")\n",
    "params_mid = Policy()\n",
    "records_high = Records(\"../../puf.csv\")\n",
    "params_high = Policy()"
   ]
  },
  {
   "cell_type": "code",
   "execution_count": 153,
   "metadata": {
    "collapsed": true
   },
   "outputs": [],
   "source": [
    "reform_rates = {\n",
    "        2016: {\n",
    "            '_AMT_trt1': [.0],\n",
    "            '_AMT_trt2': [.0]\n",
    "           },}\n",
    "\n",
    "\n",
    "reform_rates_high = {\n",
    "    2016: {\n",
    "            '_II_rt5': [.286],\n",
    "            '_II_rt6': [.286],\n",
    "            '_II_rt7': [.286],\n",
    "            '_AMT_trt1': [.0],\n",
    "            '_AMT_trt2': [.0]\n",
    "           },}\n",
    "\n",
    "reform_rates_mid = {\n",
    "    2016: {\n",
    "            '_II_brk2': [[65005, 130010, 65005, 88180,0,0]],\n",
    "            '_AMT_trt1': [.0],\n",
    "            '_AMT_trt2': [.0]\n",
    "           },}\n",
    "\n",
    "params_mid.implement_reform(reform_rates_mid)\n",
    "params_high.implement_reform(reform_rates_high)\n",
    "params_x.implement_reform(reform_rates)"
   ]
  },
  {
   "cell_type": "code",
   "execution_count": 154,
   "metadata": {
    "collapsed": false
   },
   "outputs": [
    {
     "name": "stdout",
     "output_type": "stream",
     "text": [
      "You loaded data for 2009.\n",
      "Your data have been extrapolated to 2013.\n",
      "You loaded data for 2009.\n",
      "Your data have been extrapolated to 2013.\n",
      "You loaded data for 2009.\n",
      "Your data have been extrapolated to 2013.\n"
     ]
    }
   ],
   "source": [
    "calc_x = Calculator(params_x, records_x)\n",
    "calc_mid = Calculator(params_mid, records_mid)\n",
    "calc_high = Calculator(params_high, records_high)\n",
    "for i in range(3):\n",
    "    calc_x.increment_year()\n",
    "    calc_mid.increment_year()\n",
    "    calc_high.increment_year()\n"
   ]
  },
  {
   "cell_type": "code",
   "execution_count": 155,
   "metadata": {
    "collapsed": false
   },
   "outputs": [
    {
     "name": "stdout",
     "output_type": "stream",
     "text": [
      "True\n"
     ]
    }
   ],
   "source": [
    "print calc_x.current_year == 2016"
   ]
  },
  {
   "cell_type": "code",
   "execution_count": 156,
   "metadata": {
    "collapsed": true
   },
   "outputs": [],
   "source": [
    "calc_x.calc_all()\n",
    "calc_mid.calc_all()\n",
    "calc_high.calc_all()"
   ]
  },
  {
   "cell_type": "markdown",
   "metadata": {},
   "source": [
    "### Costs of the two tax cuts are very similar"
   ]
  },
  {
   "cell_type": "code",
   "execution_count": 158,
   "metadata": {
    "collapsed": false
   },
   "outputs": [
    {
     "name": "stdout",
     "output_type": "stream",
     "text": [
      "-101735788191.0\n",
      "-102137246528.0\n"
     ]
    }
   ],
   "source": [
    "cost_mid = ((calc_mid.records._combined - calc_x.records._combined)*calc_mid.records.s006).sum()\n",
    "cost_high = ((calc_high.records._combined - calc_x.records._combined)*calc_high.records.s006).sum()\n",
    "print cost_mid\n",
    "print cost_high"
   ]
  },
  {
   "cell_type": "code",
   "execution_count": 159,
   "metadata": {
    "collapsed": true
   },
   "outputs": [],
   "source": [
    "mtr_fica_x, mtr_iit_x, mtr_combined_x = calc_x.mtr()\n",
    "mtr_fica_mid, mtr_iit_mid, mtr_combined_mid = calc_mid.mtr()\n",
    "mtr_fica_high, mtr_iit_high, mtr_combined_high = calc_high.mtr()"
   ]
  },
  {
   "cell_type": "code",
   "execution_count": 160,
   "metadata": {
    "collapsed": false
   },
   "outputs": [
    {
     "name": "stdout",
     "output_type": "stream",
     "text": [
      "0.36052332838\n",
      "0.339640431591\n",
      "0.33955243425\n"
     ]
    }
   ],
   "source": [
    "avg_mtr_combined_x = ((mtr_combined_x * calc_x.records.c00100 * calc_x.records.s006).sum()/\n",
    "                      (calc_x.records.c00100 * calc_x.records.s006).sum())\n",
    "avg_mtr_combined_mid = ((mtr_combined_mid * calc_mid.records.c00100 * calc_mid.records.s006).sum()/\n",
    "                      (calc_mid.records.c00100 * calc_mid.records.s006).sum())\n",
    "avg_mtr_combined_high = ((mtr_combined_high * calc_high.records.c00100 * calc_high.records.s006).sum()/\n",
    "                      (calc_high.records.c00100 * calc_high.records.s006).sum())\n",
    "\n",
    "print avg_mtr_combined_x\n",
    "print avg_mtr_combined_mid\n",
    "print avg_mtr_combined_high"
   ]
  },
  {
   "cell_type": "markdown",
   "metadata": {},
   "source": [
    "### Average marginal tax rate reductions of the two tax cuts are very close"
   ]
  },
  {
   "cell_type": "code",
   "execution_count": 161,
   "metadata": {
    "collapsed": false
   },
   "outputs": [
    {
     "name": "stdout",
     "output_type": "stream",
     "text": [
      "-0.0208828967887\n",
      "-0.0209708941302\n"
     ]
    }
   ],
   "source": [
    "print avg_mtr_combined_mid - avg_mtr_combined_x\n",
    "print avg_mtr_combined_high - avg_mtr_combined_x"
   ]
  },
  {
   "cell_type": "markdown",
   "metadata": {},
   "source": [
    "### But 55% of expanding the 15% bracket is spent on inframarginal tax reductions"
   ]
  },
  {
   "cell_type": "code",
   "execution_count": 162,
   "metadata": {
    "collapsed": false
   },
   "outputs": [],
   "source": [
    "inframarginal_mid = (((calc_x.records._combined-calc_mid.records._combined)*calc_x.records.s006)\n",
    "                        [(mtr_combined_x==mtr_combined_mid)&(calc_x.records._combined>calc_mid.records._combined)].sum())\n",
    "inframarginal_high = (((calc_x.records._combined-calc_high.records._combined)*calc_x.records.s006)\n",
    "                        [(mtr_combined_x==mtr_combined_high)&(calc_x.records._combined>calc_high.records._combined)].sum())"
   ]
  },
  {
   "cell_type": "code",
   "execution_count": 163,
   "metadata": {
    "collapsed": false
   },
   "outputs": [
    {
     "name": "stdout",
     "output_type": "stream",
     "text": [
      "-0.549052709702\n",
      "-0.0\n"
     ]
    }
   ],
   "source": [
    "print inframarginal_mid/cost_mid\n",
    "print inframarginal_high/cost_high"
   ]
  },
  {
   "cell_type": "code",
   "execution_count": null,
   "metadata": {
    "collapsed": false
   },
   "outputs": [],
   "source": []
  },
  {
   "cell_type": "code",
   "execution_count": null,
   "metadata": {
    "collapsed": true
   },
   "outputs": [],
   "source": []
  },
  {
   "cell_type": "code",
   "execution_count": null,
   "metadata": {
    "collapsed": true
   },
   "outputs": [],
   "source": []
  },
  {
   "cell_type": "code",
   "execution_count": null,
   "metadata": {
    "collapsed": true
   },
   "outputs": [],
   "source": []
  },
  {
   "cell_type": "code",
   "execution_count": null,
   "metadata": {
    "collapsed": true
   },
   "outputs": [],
   "source": []
  }
 ],
 "metadata": {
  "kernelspec": {
   "display_name": "Python 2",
   "language": "python",
   "name": "python2"
  },
  "language_info": {
   "codemirror_mode": {
    "name": "ipython",
    "version": 2
   },
   "file_extension": ".py",
   "mimetype": "text/x-python",
   "name": "python",
   "nbconvert_exporter": "python",
   "pygments_lexer": "ipython2",
   "version": "2.7.11"
  }
 },
 "nbformat": 4,
 "nbformat_minor": 0
}
