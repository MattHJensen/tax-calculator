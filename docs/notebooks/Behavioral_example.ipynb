{
 "cells": [
  {
   "cell_type": "markdown",
   "metadata": {},
   "source": [
    "# Incorporating micro-feedback effects"
   ]
  },
  {
   "cell_type": "code",
   "execution_count": 1,
   "metadata": {
    "collapsed": false
   },
   "outputs": [],
   "source": [
    "import sys\n",
    "sys.path.append(\"../../\")\n",
    "import taxcalc\n",
    "from taxcalc import *\n",
    "import pandas as pd\n",
    "import numpy as np"
   ]
  },
  {
   "cell_type": "markdown",
   "metadata": {},
   "source": [
    "### Start by creating a Calculator for Plan X and a calculator for Plan Y. "
   ]
  },
  {
   "cell_type": "code",
   "execution_count": 2,
   "metadata": {
    "collapsed": false
   },
   "outputs": [
    {
     "name": "stdout",
     "output_type": "stream",
     "text": [
      "You loaded data for 2008.\n",
      "Your data have beeen extrapolated to 2013.\n",
      "You loaded data for 2008.\n",
      "Your data have beeen extrapolated to 2013.\n"
     ]
    }
   ],
   "source": [
    "# Create a Records object for Plan X and Plan Y\n",
    "records_x = Records(\"../../puf.csv\")\n",
    "records_y = Records(\"../../puf.csv\")\n",
    "# Create a Parameters object for Plan X and Plan Y\n",
    "params_x = Parameters()\n",
    "params_y = Parameters()\n",
    "\n",
    "# Create two Calculators\n",
    "calcX = Calculator(params_x, records_x)\n",
    "calcY = Calculator(params_y, records_y)\n"
   ]
  },
  {
   "cell_type": "markdown",
   "metadata": {},
   "source": [
    "### Increase the top marginal tax rate by 10 percentage points "
   ]
  },
  {
   "cell_type": "code",
   "execution_count": 3,
   "metadata": {
    "collapsed": false
   },
   "outputs": [
    {
     "name": "stdout",
     "output_type": "stream",
     "text": [
      "0.396\n",
      "0.496\n"
     ]
    }
   ],
   "source": [
    "# Modify the relevant parameter for the Plan-Y Calculator.\n",
    "reform = {2013: {\"_II_rt7\": [0.496]}}\n",
    "params_y.implement_reform(reform)\n",
    "# Demonstrate that Plan X and Plan Y calculators are indeed different. \n",
    "print(calcX.params.II_rt7)\n",
    "print(calcY.params.II_rt7)"
   ]
  },
  {
   "cell_type": "markdown",
   "metadata": {},
   "source": [
    "### Update taxpayers' income to account for the rate hike with our behavioral effects calculator"
   ]
  },
  {
   "cell_type": "code",
   "execution_count": 4,
   "metadata": {
    "collapsed": false
   },
   "outputs": [
    {
     "ename": "AttributeError",
     "evalue": "'Calculator' object has no attribute '_ospctax'",
     "output_type": "error",
     "traceback": [
      "\u001b[0;31m---------------------------------------------------------------------------\u001b[0m",
      "\u001b[0;31mAttributeError\u001b[0m                            Traceback (most recent call last)",
      "\u001b[0;32m<ipython-input-4-7c94e478ee81>\u001b[0m in \u001b[0;36m<module>\u001b[0;34m()\u001b[0m\n\u001b[1;32m      1\u001b[0m \u001b[0;31m# Call the behavioral effects calculator and create a new Plan Y Calculator obect.\u001b[0m\u001b[0;34m\u001b[0m\u001b[0;34m\u001b[0m\u001b[0m\n\u001b[0;32m----> 2\u001b[0;31m \u001b[0mcalcY_behavioral\u001b[0m \u001b[0;34m=\u001b[0m \u001b[0mbehavior\u001b[0m\u001b[0;34m(\u001b[0m\u001b[0mcalcX\u001b[0m\u001b[0;34m,\u001b[0m \u001b[0mcalcY\u001b[0m\u001b[0;34m)\u001b[0m\u001b[0;34m\u001b[0m\u001b[0m\n\u001b[0m\u001b[1;32m      3\u001b[0m \u001b[0;31m# Demonstrate that taxpayers' income was affected by the tax change.\u001b[0m\u001b[0;34m\u001b[0m\u001b[0;34m\u001b[0m\u001b[0m\n\u001b[1;32m      4\u001b[0m \u001b[0;32mprint\u001b[0m\u001b[0;34m(\u001b[0m\u001b[0mcalcY\u001b[0m\u001b[0;34m.\u001b[0m\u001b[0mrecords\u001b[0m\u001b[0;34m.\u001b[0m\u001b[0me00200\u001b[0m\u001b[0;34m.\u001b[0m\u001b[0msum\u001b[0m\u001b[0;34m(\u001b[0m\u001b[0;34m)\u001b[0m\u001b[0;34m)\u001b[0m\u001b[0;34m\u001b[0m\u001b[0m\n\u001b[1;32m      5\u001b[0m \u001b[0;32mprint\u001b[0m\u001b[0;34m(\u001b[0m\u001b[0mcalcY_behavioral\u001b[0m\u001b[0;34m.\u001b[0m\u001b[0mrecords\u001b[0m\u001b[0;34m.\u001b[0m\u001b[0me00200\u001b[0m\u001b[0;34m.\u001b[0m\u001b[0msum\u001b[0m\u001b[0;34m(\u001b[0m\u001b[0;34m)\u001b[0m\u001b[0;34m)\u001b[0m\u001b[0;34m\u001b[0m\u001b[0m\n",
      "\u001b[0;32m/Users/Matt.Jensen/proj/Tax-Calculator/taxcalc/behavior.pyc\u001b[0m in \u001b[0;36mbehavior\u001b[0;34m(calcX, calcY, elast_wrt_atr, inc_effect, update_income)\u001b[0m\n\u001b[1;32m     57\u001b[0m     \u001b[0;31m# Calculate the magnitude of the substitution and income effects.\u001b[0m\u001b[0;34m\u001b[0m\u001b[0;34m\u001b[0m\u001b[0m\n\u001b[1;32m     58\u001b[0m     substitution_effect = (elast_wrt_atr * pct_diff_atr *\n\u001b[0;32m---> 59\u001b[0;31m                            (calcX._ospctax))\n\u001b[0m\u001b[1;32m     60\u001b[0m \u001b[0;34m\u001b[0m\u001b[0m\n\u001b[1;32m     61\u001b[0m     \u001b[0mcalcY_behavior\u001b[0m \u001b[0;34m=\u001b[0m \u001b[0mupdate_income\u001b[0m\u001b[0;34m(\u001b[0m\u001b[0msubstitution_effect\u001b[0m\u001b[0;34m,\u001b[0m \u001b[0mcalcY_behavior\u001b[0m\u001b[0;34m)\u001b[0m\u001b[0;34m\u001b[0m\u001b[0m\n",
      "\u001b[0;31mAttributeError\u001b[0m: 'Calculator' object has no attribute '_ospctax'"
     ]
    }
   ],
   "source": [
    "# Call the behavioral effects calculator and create a new Plan Y Calculator obect. \n",
    "calcY_behavioral = behavior(calcX, calcY)\n",
    "# Demonstrate that taxpayers' income was affected by the tax change.\n",
    "print(calcY.records.e00200.sum())\n",
    "print(calcY_behavioral.records.e00200.sum())"
   ]
  },
  {
   "cell_type": "code",
   "execution_count": null,
   "metadata": {
    "collapsed": false
   },
   "outputs": [],
   "source": []
  }
 ],
 "metadata": {
  "kernelspec": {
   "display_name": "Python 2",
   "language": "python",
   "name": "python2"
  },
  "language_info": {
   "codemirror_mode": {
    "name": "ipython",
    "version": 2
   },
   "file_extension": ".py",
   "mimetype": "text/x-python",
   "name": "python",
   "nbconvert_exporter": "python",
   "pygments_lexer": "ipython2",
   "version": "2.7.10"
  }
 },
 "nbformat": 4,
 "nbformat_minor": 0
}
