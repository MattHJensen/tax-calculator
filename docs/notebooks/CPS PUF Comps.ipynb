{
 "cells": [
  {
   "cell_type": "code",
   "execution_count": 21,
   "metadata": {
    "collapsed": true
   },
   "outputs": [],
   "source": [
    "from taxcalc import *\n",
    "import pandas as pd\n",
    "import numpy as np"
   ]
  },
  {
   "cell_type": "code",
   "execution_count": 22,
   "metadata": {
    "collapsed": true
   },
   "outputs": [],
   "source": [
    "taxdata = pd.read_csv('cps copy.csv')\n",
    "weight = pd.DataFrame(taxdata.s006)"
   ]
  },
  {
   "cell_type": "code",
   "execution_count": 30,
   "metadata": {
    "collapsed": false
   },
   "outputs": [
    {
     "name": "stdout",
     "output_type": "stream",
     "text": [
      "You loaded data for 2009.\n",
      "Your data have been extrapolated to 2013.\n"
     ]
    }
   ],
   "source": [
    "recs = Records(taxdata, weights=weight, start_year=2014)\n",
    "policy = Policy(start_year=2014, num_years=1)\n",
    "calc = Calculator(records=recs, policy=policy)\n",
    "\n",
    "recs2 = Records()\n",
    "policy2 = Policy()\n",
    "calc2 = Calculator(records=recs2, policy=policy2)"
   ]
  },
  {
   "cell_type": "code",
   "execution_count": 31,
   "metadata": {
    "collapsed": false
   },
   "outputs": [],
   "source": [
    "calc.calc_all()\n",
    "calc2.advance_to_year(2014)\n",
    "calc2.calc_all()"
   ]
  },
  {
   "cell_type": "markdown",
   "metadata": {},
   "source": [
    "CPS Calculations"
   ]
  },
  {
   "cell_type": "code",
   "execution_count": 32,
   "metadata": {
    "collapsed": false
   },
   "outputs": [
    {
     "data": {
      "text/html": [
       "<div>\n",
       "<table border=\"1\" class=\"dataframe\">\n",
       "  <thead>\n",
       "    <tr style=\"text-align: right;\">\n",
       "      <th></th>\n",
       "      <th>2014</th>\n",
       "    </tr>\n",
       "  </thead>\n",
       "  <tbody>\n",
       "    <tr>\n",
       "      <th>Returns (#m)</th>\n",
       "      <td>163.2</td>\n",
       "    </tr>\n",
       "    <tr>\n",
       "      <th>AGI ($b)</th>\n",
       "      <td>8,724.4</td>\n",
       "    </tr>\n",
       "    <tr>\n",
       "      <th>Itemizers (#m)</th>\n",
       "      <td>13.9</td>\n",
       "    </tr>\n",
       "    <tr>\n",
       "      <th>Itemized Deduction ($b)</th>\n",
       "      <td>197.4</td>\n",
       "    </tr>\n",
       "    <tr>\n",
       "      <th>Standard Deduction Filers (#m)</th>\n",
       "      <td>130.9</td>\n",
       "    </tr>\n",
       "    <tr>\n",
       "      <th>Standard Deduction ($b)</th>\n",
       "      <td>1,210.2</td>\n",
       "    </tr>\n",
       "    <tr>\n",
       "      <th>Personal Exemption ($b)</th>\n",
       "      <td>1,105.4</td>\n",
       "    </tr>\n",
       "    <tr>\n",
       "      <th>Taxable Income ($b)</th>\n",
       "      <td>6,508.9</td>\n",
       "    </tr>\n",
       "    <tr>\n",
       "      <th>Regular Tax ($b)</th>\n",
       "      <td>1,271.6</td>\n",
       "    </tr>\n",
       "    <tr>\n",
       "      <th>AMT Income ($b)</th>\n",
       "      <td>8,609.6</td>\n",
       "    </tr>\n",
       "    <tr>\n",
       "      <th>AMT Liability ($b)</th>\n",
       "      <td>2.7</td>\n",
       "    </tr>\n",
       "    <tr>\n",
       "      <th>AMT Filers (#m)</th>\n",
       "      <td>1.4</td>\n",
       "    </tr>\n",
       "    <tr>\n",
       "      <th>Tax before Credits ($b)</th>\n",
       "      <td>1,246.2</td>\n",
       "    </tr>\n",
       "    <tr>\n",
       "      <th>Refundable Credits ($b)</th>\n",
       "      <td>21.1</td>\n",
       "    </tr>\n",
       "    <tr>\n",
       "      <th>Nonrefundable Credits ($b)</th>\n",
       "      <td>33.7</td>\n",
       "    </tr>\n",
       "    <tr>\n",
       "      <th>Reform Surtaxes ($b)</th>\n",
       "      <td>0.0</td>\n",
       "    </tr>\n",
       "    <tr>\n",
       "      <th>Ind Income Tax ($b)</th>\n",
       "      <td>1,195.4</td>\n",
       "    </tr>\n",
       "    <tr>\n",
       "      <th>Payroll Taxes ($b)</th>\n",
       "      <td>995.7</td>\n",
       "    </tr>\n",
       "    <tr>\n",
       "      <th>Combined Liability ($b)</th>\n",
       "      <td>2,191.1</td>\n",
       "    </tr>\n",
       "  </tbody>\n",
       "</table>\n",
       "</div>"
      ],
      "text/plain": [
       "                                   2014\n",
       "Returns (#m)                      163.2\n",
       "AGI ($b)                        8,724.4\n",
       "Itemizers (#m)                     13.9\n",
       "Itemized Deduction ($b)           197.4\n",
       "Standard Deduction Filers (#m)    130.9\n",
       "Standard Deduction ($b)         1,210.2\n",
       "Personal Exemption ($b)         1,105.4\n",
       "Taxable Income ($b)             6,508.9\n",
       "Regular Tax ($b)                1,271.6\n",
       "AMT Income ($b)                 8,609.6\n",
       "AMT Liability ($b)                  2.7\n",
       "AMT Filers (#m)                     1.4\n",
       "Tax before Credits ($b)         1,246.2\n",
       "Refundable Credits ($b)            21.1\n",
       "Nonrefundable Credits ($b)         33.7\n",
       "Reform Surtaxes ($b)                0.0\n",
       "Ind Income Tax ($b)             1,195.4\n",
       "Payroll Taxes ($b)                995.7\n",
       "Combined Liability ($b)         2,191.1"
      ]
     },
     "execution_count": 32,
     "metadata": {},
     "output_type": "execute_result"
    }
   ],
   "source": [
    "diag1 = utils.create_diagnostic_table(calc)\n",
    "diag1"
   ]
  },
  {
   "cell_type": "markdown",
   "metadata": {},
   "source": [
    "PUF Calculations"
   ]
  },
  {
   "cell_type": "code",
   "execution_count": 33,
   "metadata": {
    "collapsed": false
   },
   "outputs": [
    {
     "data": {
      "text/html": [
       "<div>\n",
       "<table border=\"1\" class=\"dataframe\">\n",
       "  <thead>\n",
       "    <tr style=\"text-align: right;\">\n",
       "      <th></th>\n",
       "      <th>2014</th>\n",
       "    </tr>\n",
       "  </thead>\n",
       "  <tbody>\n",
       "    <tr>\n",
       "      <th>Returns (#m)</th>\n",
       "      <td>165.2</td>\n",
       "    </tr>\n",
       "    <tr>\n",
       "      <th>AGI ($b)</th>\n",
       "      <td>9,697.4</td>\n",
       "    </tr>\n",
       "    <tr>\n",
       "      <th>Itemizers (#m)</th>\n",
       "      <td>43.3</td>\n",
       "    </tr>\n",
       "    <tr>\n",
       "      <th>Itemized Deduction ($b)</th>\n",
       "      <td>1,169.0</td>\n",
       "    </tr>\n",
       "    <tr>\n",
       "      <th>Standard Deduction Filers (#m)</th>\n",
       "      <td>109.1</td>\n",
       "    </tr>\n",
       "    <tr>\n",
       "      <th>Standard Deduction ($b)</th>\n",
       "      <td>949.9</td>\n",
       "    </tr>\n",
       "    <tr>\n",
       "      <th>Personal Exemption ($b)</th>\n",
       "      <td>1,139.7</td>\n",
       "    </tr>\n",
       "    <tr>\n",
       "      <th>Taxable Income ($b)</th>\n",
       "      <td>6,905.5</td>\n",
       "    </tr>\n",
       "    <tr>\n",
       "      <th>Regular Tax ($b)</th>\n",
       "      <td>1,519.8</td>\n",
       "    </tr>\n",
       "    <tr>\n",
       "      <th>AMT Income ($b)</th>\n",
       "      <td>9,090.6</td>\n",
       "    </tr>\n",
       "    <tr>\n",
       "      <th>AMT Liability ($b)</th>\n",
       "      <td>36.0</td>\n",
       "    </tr>\n",
       "    <tr>\n",
       "      <th>AMT Filers (#m)</th>\n",
       "      <td>4.5</td>\n",
       "    </tr>\n",
       "    <tr>\n",
       "      <th>Tax before Credits ($b)</th>\n",
       "      <td>1,437.6</td>\n",
       "    </tr>\n",
       "    <tr>\n",
       "      <th>Refundable Credits ($b)</th>\n",
       "      <td>100.8</td>\n",
       "    </tr>\n",
       "    <tr>\n",
       "      <th>Nonrefundable Credits ($b)</th>\n",
       "      <td>71.7</td>\n",
       "    </tr>\n",
       "    <tr>\n",
       "      <th>Reform Surtaxes ($b)</th>\n",
       "      <td>0.0</td>\n",
       "    </tr>\n",
       "    <tr>\n",
       "      <th>Ind Income Tax ($b)</th>\n",
       "      <td>1,298.0</td>\n",
       "    </tr>\n",
       "    <tr>\n",
       "      <th>Payroll Taxes ($b)</th>\n",
       "      <td>961.9</td>\n",
       "    </tr>\n",
       "    <tr>\n",
       "      <th>Combined Liability ($b)</th>\n",
       "      <td>2,259.8</td>\n",
       "    </tr>\n",
       "  </tbody>\n",
       "</table>\n",
       "</div>"
      ],
      "text/plain": [
       "                                   2014\n",
       "Returns (#m)                      165.2\n",
       "AGI ($b)                        9,697.4\n",
       "Itemizers (#m)                     43.3\n",
       "Itemized Deduction ($b)         1,169.0\n",
       "Standard Deduction Filers (#m)    109.1\n",
       "Standard Deduction ($b)           949.9\n",
       "Personal Exemption ($b)         1,139.7\n",
       "Taxable Income ($b)             6,905.5\n",
       "Regular Tax ($b)                1,519.8\n",
       "AMT Income ($b)                 9,090.6\n",
       "AMT Liability ($b)                 36.0\n",
       "AMT Filers (#m)                     4.5\n",
       "Tax before Credits ($b)         1,437.6\n",
       "Refundable Credits ($b)           100.8\n",
       "Nonrefundable Credits ($b)         71.7\n",
       "Reform Surtaxes ($b)                0.0\n",
       "Ind Income Tax ($b)             1,298.0\n",
       "Payroll Taxes ($b)                961.9\n",
       "Combined Liability ($b)         2,259.8"
      ]
     },
     "execution_count": 33,
     "metadata": {},
     "output_type": "execute_result"
    }
   ],
   "source": [
    "diag2 = utils.create_diagnostic_table(calc2)\n",
    "diag2"
   ]
  },
  {
   "cell_type": "markdown",
   "metadata": {},
   "source": [
    "PUF - CPS"
   ]
  },
  {
   "cell_type": "code",
   "execution_count": 34,
   "metadata": {
    "collapsed": false
   },
   "outputs": [
    {
     "data": {
      "text/html": [
       "<div>\n",
       "<table border=\"1\" class=\"dataframe\">\n",
       "  <thead>\n",
       "    <tr style=\"text-align: right;\">\n",
       "      <th></th>\n",
       "      <th>2014</th>\n",
       "    </tr>\n",
       "  </thead>\n",
       "  <tbody>\n",
       "    <tr>\n",
       "      <th>Returns (#m)</th>\n",
       "      <td>2.0</td>\n",
       "    </tr>\n",
       "    <tr>\n",
       "      <th>AGI ($b)</th>\n",
       "      <td>973.1</td>\n",
       "    </tr>\n",
       "    <tr>\n",
       "      <th>Itemizers (#m)</th>\n",
       "      <td>29.4</td>\n",
       "    </tr>\n",
       "    <tr>\n",
       "      <th>Itemized Deduction ($b)</th>\n",
       "      <td>971.6</td>\n",
       "    </tr>\n",
       "    <tr>\n",
       "      <th>Standard Deduction Filers (#m)</th>\n",
       "      <td>-21.8</td>\n",
       "    </tr>\n",
       "    <tr>\n",
       "      <th>Standard Deduction ($b)</th>\n",
       "      <td>-260.2</td>\n",
       "    </tr>\n",
       "    <tr>\n",
       "      <th>Personal Exemption ($b)</th>\n",
       "      <td>34.3</td>\n",
       "    </tr>\n",
       "    <tr>\n",
       "      <th>Taxable Income ($b)</th>\n",
       "      <td>396.6</td>\n",
       "    </tr>\n",
       "    <tr>\n",
       "      <th>Regular Tax ($b)</th>\n",
       "      <td>248.2</td>\n",
       "    </tr>\n",
       "    <tr>\n",
       "      <th>AMT Income ($b)</th>\n",
       "      <td>481.0</td>\n",
       "    </tr>\n",
       "    <tr>\n",
       "      <th>AMT Liability ($b)</th>\n",
       "      <td>33.4</td>\n",
       "    </tr>\n",
       "    <tr>\n",
       "      <th>AMT Filers (#m)</th>\n",
       "      <td>3.0</td>\n",
       "    </tr>\n",
       "    <tr>\n",
       "      <th>Tax before Credits ($b)</th>\n",
       "      <td>191.4</td>\n",
       "    </tr>\n",
       "    <tr>\n",
       "      <th>Refundable Credits ($b)</th>\n",
       "      <td>79.7</td>\n",
       "    </tr>\n",
       "    <tr>\n",
       "      <th>Nonrefundable Credits ($b)</th>\n",
       "      <td>37.9</td>\n",
       "    </tr>\n",
       "    <tr>\n",
       "      <th>Reform Surtaxes ($b)</th>\n",
       "      <td>0.0</td>\n",
       "    </tr>\n",
       "    <tr>\n",
       "      <th>Ind Income Tax ($b)</th>\n",
       "      <td>102.5</td>\n",
       "    </tr>\n",
       "    <tr>\n",
       "      <th>Payroll Taxes ($b)</th>\n",
       "      <td>-33.8</td>\n",
       "    </tr>\n",
       "    <tr>\n",
       "      <th>Combined Liability ($b)</th>\n",
       "      <td>68.7</td>\n",
       "    </tr>\n",
       "  </tbody>\n",
       "</table>\n",
       "</div>"
      ],
      "text/plain": [
       "                                   2014\n",
       "Returns (#m)                        2.0\n",
       "AGI ($b)                          973.1\n",
       "Itemizers (#m)                     29.4\n",
       "Itemized Deduction ($b)           971.6\n",
       "Standard Deduction Filers (#m)    -21.8\n",
       "Standard Deduction ($b)          -260.2\n",
       "Personal Exemption ($b)            34.3\n",
       "Taxable Income ($b)               396.6\n",
       "Regular Tax ($b)                  248.2\n",
       "AMT Income ($b)                   481.0\n",
       "AMT Liability ($b)                 33.4\n",
       "AMT Filers (#m)                     3.0\n",
       "Tax before Credits ($b)           191.4\n",
       "Refundable Credits ($b)            79.7\n",
       "Nonrefundable Credits ($b)         37.9\n",
       "Reform Surtaxes ($b)                0.0\n",
       "Ind Income Tax ($b)               102.5\n",
       "Payroll Taxes ($b)                -33.8\n",
       "Combined Liability ($b)            68.7"
      ]
     },
     "execution_count": 34,
     "metadata": {},
     "output_type": "execute_result"
    }
   ],
   "source": [
    "diag2 - diag1"
   ]
  },
  {
   "cell_type": "code",
   "execution_count": null,
   "metadata": {
    "collapsed": true
   },
   "outputs": [],
   "source": []
  }
 ],
 "metadata": {
  "anaconda-cloud": {},
  "kernelspec": {
   "display_name": "Python [Root]",
   "language": "python",
   "name": "Python [Root]"
  },
  "language_info": {
   "codemirror_mode": {
    "name": "ipython",
    "version": 2
   },
   "file_extension": ".py",
   "mimetype": "text/x-python",
   "name": "python",
   "nbconvert_exporter": "python",
   "pygments_lexer": "ipython2",
   "version": "2.7.12"
  }
 },
 "nbformat": 4,
 "nbformat_minor": 0
}
